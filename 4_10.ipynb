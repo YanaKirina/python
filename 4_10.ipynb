{
 "cells": [
  {
   "cell_type": "code",
   "execution_count": 17,
   "metadata": {},
   "outputs": [],
   "source": [
    "from typing import Self"
   ]
  },
  {
   "cell_type": "code",
   "execution_count": 18,
   "metadata": {},
   "outputs": [],
   "source": [
    "class Mosquito:\n",
    "    MAX_BLOOD_VOLUME: int = 100\n",
    "    MAX_HP: int = 100\n",
    "\n",
    "    blood_volume: int \n",
    "    hp: int\n",
    "    name: str\n",
    "\n",
    "    def __init__(self,hp: int = 100, blood_volume: int = 0, name: str = 'Sosunok'):\n",
    "        self.hp = hp\n",
    "        self.blood_volume = blood_volume\n",
    "        self.name = name\n",
    "\n",
    "    def __repr__(self) -> str:\n",
    "        return f'Mosqito({self.hp}, {self.blood_volume}, {self.name})'\n",
    "\n",
    "    def suck(self, other: Self, blood_amount: int):\n",
    "        if other.blood_volume >= blood_amount:\n",
    "            self.blood_volume +=  blood_amount\n",
    "            other.blood_volume -= blood_amount\n",
    "\n",
    "    def pierce(self, other: Self, damage: int):\n",
    "        other.hp -= int(damage * (self.blood_volume/self.MAX_BLOOD_VOLUME))\n",
    "\n",
    "    def die(self):\n",
    "        return self.hp <= 0\n",
    "\n",
    "\n",
    "\n",
    "class MosquitoCloud:\n",
    "    mosquitos: list[Mosquito] = []\n",
    "    mosquito_queen: Mosquito\n",
    "\n",
    "    def __init__(self, mosquitos_amount: int):\n",
    "        self.mosquitos =[]\n",
    "        for i in range(mosquitos_amount):\n",
    "            m = Mosquito(blood_volume=50, name=f'Sucker{i+1}')\n",
    "            self.mosquitos.append(m)\n",
    "\n",
    "    def die(self):\n",
    "        return (\"облако погибло\")\n",
    "        \n",
    "    def __str__(self) -> str:\n",
    "        if len(self.mosquitos) == 0:\n",
    "            return self.die()\n",
    "        else:\n",
    "            return f'mosquito cloud (mosquitos = {self.mosquitos})'\n",
    "\n",
    "\n",
    "    def attack(self, other: Self):\n",
    "        for i in range(min(len(self.mosquitos), len(other.mosquitos))):\n",
    "            self.mosquitos[i].pierce(other.mosquitos[i], 50)\n",
    "            if other.mosquitos[i].die():\n",
    "                other.mosquitos[i] = None\n",
    "        self.mosquitos = [m for m in self.mosquitos if m is not None]\n",
    "        other.mosquitos = [m for m in other.mosquitos if m is not None]            "
   ]
  },
  {
   "cell_type": "code",
   "execution_count": 19,
   "metadata": {},
   "outputs": [
    {
     "name": "stdout",
     "output_type": "stream",
     "text": [
      "До атаки: 1st mosquito cloud (mosquitos = [Mosqito(100, 50, Sucker1), Mosqito(100, 50, Sucker2), Mosqito(100, 50, Sucker3), Mosqito(100, 50, Sucker4), Mosqito(100, 50, Sucker5), Mosqito(100, 50, Sucker6), Mosqito(100, 50, Sucker7), Mosqito(100, 50, Sucker8), Mosqito(100, 50, Sucker9), Mosqito(100, 50, Sucker10)])\n",
      "После атаки: 1st mosquito cloud (mosquitos = [Mosqito(75, 50, Sucker1), Mosqito(75, 50, Sucker2), Mosqito(75, 50, Sucker3), Mosqito(75, 50, Sucker4), Mosqito(75, 50, Sucker5), Mosqito(75, 50, Sucker6), Mosqito(75, 50, Sucker7), Mosqito(75, 50, Sucker8), Mosqito(75, 50, Sucker9), Mosqito(75, 50, Sucker10)])\n"
     ]
    }
   ],
   "source": [
    "ms1 = MosquitoCloud(10)\n",
    "print(\"До атаки: 1st\", ms1)\n",
    "ms2 = MosquitoCloud(15)\n",
    "ms1.attack(ms2)\n",
    "ms2.attack(ms1)\n",
    "\n",
    "\n",
    "print(\"После атаки: 1st\", ms1)"
   ]
  },
  {
   "cell_type": "code",
   "execution_count": 20,
   "metadata": {},
   "outputs": [
    {
     "name": "stdout",
     "output_type": "stream",
     "text": [
      "До атаки: 2nd mosquito cloud (mosquitos = [Mosqito(75, 50, Sucker1), Mosqito(75, 50, Sucker2), Mosqito(75, 50, Sucker3), Mosqito(75, 50, Sucker4), Mosqito(75, 50, Sucker5), Mosqito(75, 50, Sucker6), Mosqito(75, 50, Sucker7), Mosqito(75, 50, Sucker8), Mosqito(75, 50, Sucker9), Mosqito(75, 50, Sucker10), Mosqito(100, 50, Sucker11), Mosqito(100, 50, Sucker12), Mosqito(100, 50, Sucker13), Mosqito(100, 50, Sucker14), Mosqito(100, 50, Sucker15)])\n",
      "После атаки: 2nd mosquito cloud (mosquitos = [Mosqito(50, 50, Sucker1), Mosqito(50, 50, Sucker2), Mosqito(50, 50, Sucker3), Mosqito(50, 50, Sucker4), Mosqito(50, 50, Sucker5), Mosqito(50, 50, Sucker6), Mosqito(50, 50, Sucker7), Mosqito(50, 50, Sucker8), Mosqito(50, 50, Sucker9), Mosqito(50, 50, Sucker10), Mosqito(100, 50, Sucker11), Mosqito(100, 50, Sucker12), Mosqito(100, 50, Sucker13), Mosqito(100, 50, Sucker14), Mosqito(100, 50, Sucker15)])\n",
      "После 2 атаки: 2nd mosquito cloud (mosquitos = [Mosqito(25, 50, Sucker1), Mosqito(25, 50, Sucker2), Mosqito(25, 50, Sucker3), Mosqito(25, 50, Sucker4), Mosqito(25, 50, Sucker5), Mosqito(25, 50, Sucker6), Mosqito(25, 50, Sucker7), Mosqito(25, 50, Sucker8), Mosqito(25, 50, Sucker9), Mosqito(25, 50, Sucker10), Mosqito(100, 50, Sucker11), Mosqito(100, 50, Sucker12), Mosqito(100, 50, Sucker13), Mosqito(100, 50, Sucker14), Mosqito(100, 50, Sucker15)])\n"
     ]
    }
   ],
   "source": [
    "print(\"До атаки: 2nd\", ms2)\n",
    "ms1.attack(ms2)\n",
    "print(\"После атаки: 2nd\", ms2)\n",
    "ms1.attack(ms2)\n",
    "print(\"После 2 атаки: 2nd\", ms2)"
   ]
  }
 ],
 "metadata": {
  "kernelspec": {
   "display_name": ".venv",
   "language": "python",
   "name": "python3"
  },
  "language_info": {
   "codemirror_mode": {
    "name": "ipython",
    "version": 3
   },
   "file_extension": ".py",
   "mimetype": "text/x-python",
   "name": "python",
   "nbconvert_exporter": "python",
   "pygments_lexer": "ipython3",
   "version": "3.12.7"
  }
 },
 "nbformat": 4,
 "nbformat_minor": 2
}
