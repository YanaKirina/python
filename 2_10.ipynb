{
 "cells": [
  {
   "cell_type": "code",
   "execution_count": 9,
   "metadata": {},
   "outputs": [],
   "source": [
    "class ToxicTwitterCsvLoader:\n",
    "    path_to_csv: str\n",
    "    records: list\n",
    "    \n",
    "    def __init__(self, path_to_csv: str):\n",
    "        self.path_to_csv = path_to_csv\n",
    "        self.file_readline = []\n",
    "        self.records = []\n",
    "\n",
    "    def load_csv_to_memory(self):\n",
    "        with open(self.path_to_csv, 'r', encoding='utf-8') as file:\n",
    "            self.file_readline = file.readlines()[1:10000]\n",
    "\n",
    "        for line in self.file_readline:\n",
    "            line = line.strip()\n",
    "            line = line.replace('\"\"', '\\\"')\n",
    "\n",
    "            new_line = line.split(',')\n",
    "\n",
    "            index = new_line[0]\n",
    "            toxicity = new_line[1]\n",
    "            raw_text = new_line[2:]\n",
    "            text = ','.join(raw_text)\n",
    "\n",
    "            self.records.append([int(index), int(toxicity), text])\n",
    "    def get(self, index: int) -> list:\n",
    "        return(self.records[index])\n",
    "\n",
    "toxic_twitter = ToxicTwitterCsvLoader('FinalBalancedDataset.csv')\n",
    "toxic_twitter.load_csv_to_memory()\n"
   ]
  },
  {
   "cell_type": "code",
   "execution_count": 10,
   "metadata": {},
   "outputs": [
    {
     "name": "stdout",
     "output_type": "stream",
     "text": [
      "[0, 0, ' @user when a father is dysfunctional and is so selfish he drags his kids into his dysfunction.   #run']\n",
      "[101, 0, '\"trump calling on obama to resign over the orlando shootings? the boy has a point. 8 years and all he did was \"talk\" about change.  \"']\n",
      "[437, 0, '\"kayak, sup, snorkel, swim...whatever your pleasure, we\\'ll put it together!  #alohabeachbus   #hawaii #explore \"']\n",
      "\"kayak, sup, snorkel, swim...whatever your pleasure, we'll put it together!  #alohabeachbus   #hawaii #explore \"\n"
     ]
    }
   ],
   "source": [
    "print(toxic_twitter.get(0))\n",
    "print(toxic_twitter.get(101))\n",
    "print(toxic_twitter.get(437))\n",
    "print(toxic_twitter.get(437)[2])"
   ]
  }
 ],
 "metadata": {
  "kernelspec": {
   "display_name": ".venv",
   "language": "python",
   "name": "python3"
  },
  "language_info": {
   "codemirror_mode": {
    "name": "ipython",
    "version": 3
   },
   "file_extension": ".py",
   "mimetype": "text/x-python",
   "name": "python",
   "nbconvert_exporter": "python",
   "pygments_lexer": "ipython3",
   "version": "3.12.7"
  }
 },
 "nbformat": 4,
 "nbformat_minor": 2
}
