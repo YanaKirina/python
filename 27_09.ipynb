{
 "cells": [
  {
   "cell_type": "code",
   "execution_count": null,
   "metadata": {},
   "outputs": [],
   "source": [
    "class Car:\n",
    "    def __init__(self, color, wheels, engine, rudder_right, year, brand):\n",
    "        self.color = color\n",
    "        self.wheels = wheels\n",
    "        self.engine = engine\n",
    "        self.rudder_right = rudder_right\n",
    "        self.year = year\n",
    "        self.brand = brand\n",
    "        self.speed = 0\n",
    "\n",
    "    def drive(self, speed):\n",
    "        if speed < 0:\n",
    "             return(\"скорость отрицательная\")\n",
    "        self.speed = speed\n",
    "        return (f\"скорость {self.speed}\")\n",
    "\n",
    "    def stop(self, stopping_distance):\n",
    "        if self.speed == 0:\n",
    "            return(\"скороость нулевая\")\n",
    "        self.speed = 0\n",
    "        return (f\"остановка с тормозным путём {stopping_distance}\")\n",
    "\n",
    "    def turn(self, direction):\n",
    "        if direction in ['влево', 'вправо', 'Влево', 'Вправо']:\n",
    "            return (f\"поворот на {direction}\")\n",
    "        else:\n",
    "            return(f\"Неправильное направление\")\n",
    "\n",
    "    def breakk(self, broken_part, ):\n",
    "        return f\"{self.brand} сломался из-за {broken_part}.\""
   ]
  },
  {
   "cell_type": "code",
   "execution_count": null,
   "metadata": {},
   "outputs": [
    {
     "name": "stdout",
     "output_type": "stream",
     "text": [
      "Все хорошо\n",
      "скорость 60\n",
      "остановка с тормозным путём 5\n",
      "поворот на вправо\n",
      "Toyota сломался из-за двигатель.\n"
     ]
    }
   ],
   "source": [
    "my_car = Car(color='красный', wheels=4, engine='ДВС', rudder_right=True, year=2021, brand='Toyota')\n",
    "\n",
    "print(my_car.drive(60))           \n",
    "print(my_car.stop(5))             \n",
    "print(my_car.turn('вправо'))      \n",
    "print(my_car.breakk('двигатель')) \n"
   ]
  }
 ],
 "metadata": {
  "kernelspec": {
   "display_name": ".venv",
   "language": "python",
   "name": "python3"
  },
  "language_info": {
   "codemirror_mode": {
    "name": "ipython",
    "version": 3
   },
   "file_extension": ".py",
   "mimetype": "text/x-python",
   "name": "python",
   "nbconvert_exporter": "python",
   "pygments_lexer": "ipython3",
   "version": "3.12.7"
  }
 },
 "nbformat": 4,
 "nbformat_minor": 2
}
