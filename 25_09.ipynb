{
 "cells": [
  {
   "cell_type": "code",
   "execution_count": 5,
   "metadata": {},
   "outputs": [
    {
     "name": "stdout",
     "output_type": "stream",
     "text": [
      "Фильмы для Яна\n",
      "- pirates\n",
      "- lazy town ++\n",
      "- joker\n"
     ]
    }
   ],
   "source": [
    "def get_name(text: str) -> str:\n",
    "    name = input(text)\n",
    "    return name\n",
    "def ask_age(text: str) -> int:\n",
    "    age = int(input(text))\n",
    "    return age\n",
    "\n",
    "movies = {\n",
    "    'pirates': 14,\n",
    "    'lazy town ++': 18,\n",
    "    'joker': 0,\n",
    "}\n",
    "\n",
    "def create_dict_of_available_movies_by_age(age: int, movies: dict) -> dict:\n",
    "    available_movies = {}\n",
    "    for movie, min_age in movies.items():\n",
    "        if age >= min_age:\n",
    "            available_movies[movie] = min_age  \n",
    "    return available_movies\n",
    "            \n",
    "def print_movies_for_user(name: str, movies: dict):\n",
    "    print(f\"Фильмы для {name}\")\n",
    "    for movie in movies:  \n",
    "            print(f\"- {movie}\")\n",
    "\n",
    "print_movies_for_user(get_name(\"Введите ваше имя: \"), create_dict_of_available_movies_by_age(ask_age(\"Введите ваш возраст: \"), movies))"
   ]
  }
 ],
 "metadata": {
  "kernelspec": {
   "display_name": "Python 3",
   "language": "python",
   "name": "python3"
  },
  "language_info": {
   "codemirror_mode": {
    "name": "ipython",
    "version": 3
   },
   "file_extension": ".py",
   "mimetype": "text/x-python",
   "name": "python",
   "nbconvert_exporter": "python",
   "pygments_lexer": "ipython3",
   "version": "3.12.3"
  }
 },
 "nbformat": 4,
 "nbformat_minor": 2
}
